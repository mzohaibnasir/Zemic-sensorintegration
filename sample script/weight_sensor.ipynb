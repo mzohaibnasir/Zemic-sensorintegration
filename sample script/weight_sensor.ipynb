{
 "cells": [
  {
   "cell_type": "code",
   "execution_count": null,
   "metadata": {},
   "outputs": [],
   "source": [
    "import socket\n",
    "import threading\n",
    "import datetime\n",
    "import time\n",
    "\n"
   ]
  },
  {
   "cell_type": "code",
   "execution_count": null,
   "metadata": {},
   "outputs": [],
   "source": [
    "\n",
    "# pecify server host and port\n",
    "# HOST = '192.168.0.201'\n",
    "HOST = '192.168.0.129'\n",
    "PORT = 8235\n"
   ]
  },
  {
   "cell_type": "code",
   "execution_count": null,
   "metadata": {},
   "outputs": [],
   "source": []
  },
  {
   "cell_type": "code",
   "execution_count": null,
   "metadata": {},
   "outputs": [],
   "source": [
    "# 02 01 04 00 57 50 06 00 B2 03\n",
    "# byte_array = bytearray.fromhex(\"02 01 04 00 57 50 06 00 B2 03\")\n",
    "# byte_array"
   ]
  },
  {
   "cell_type": "code",
   "execution_count": null,
   "metadata": {},
   "outputs": [],
   "source": []
  },
  {
   "cell_type": "code",
   "execution_count": null,
   "metadata": {},
   "outputs": [],
   "source": [
    "\n",
    "def hexArrayToByteStream(hex_array):  # default\n",
    "    return bytes(hex_array)\n",
    "\n",
    "def hexStringToByteStrem(hex_string):\n",
    "    hex_string = hex_string.replace(\" \", \"\")\n",
    "    return bytes.fromhex(hex_string)\n",
    "\n",
    "\n",
    "hex_array = [0x02, 0x01, 0x04, 0x00, 0x57, 0x50, 0x06, 0x00, 0xb2, 0x03]\n",
    "hex_string = \"02 01 04 00 57 50 06 00 B2 03\"\n",
    "\n",
    "hexArrayToByteStream(hex_array), hexStringToByteStrem(hex_string)"
   ]
  },
  {
   "cell_type": "code",
   "execution_count": null,
   "metadata": {},
   "outputs": [],
   "source": [
    "\n",
    "#get parameter command\n",
    "#hex_array = [0x02, 0x01, 0x04, 0x00, 0x51, 0x50, 0x03, 0x00, 0xa9, 0x03]\n",
    "#get aisle weight command\n",
    "\n",
    "hex_array = [0x02, 0x01, 0x04, 0x00, 0x51, 0x50, 0x06, 0x00, 0xac, 0x03]\n",
    "# 02 01 04 00 51 50 01 00 A7 03\n",
    "#get loadcell weight command\n",
    "#hex_array = [0x02, 0x01, 0x04, 0x00, 0x51, 0x50, 0x07, 0x00, 0xad, 0x03]\n",
    "#  TCP/IP socket Creat a TCP/IP socket\n",
    "print(\"server ip:\", HOST)\n",
    "print(\"server port:\", PORT)\n",
    "server_socket = socket.socket(socket.AF_INET, socket.SOCK_STREAM)\n",
    "\n",
    "#  binding sever address and port\n",
    "server_socket.bind((HOST, PORT))\n",
    "\n",
    "#  Start listening coming connection\n",
    "server_socket.listen(2)\n",
    "print('Waiting for client connection...')\n",
    "\n",
    "\n",
    "# client_socket, addr = server_socket.accept()"
   ]
  },
  {
   "cell_type": "code",
   "execution_count": null,
   "metadata": {},
   "outputs": [],
   "source": [
    "server_socket"
   ]
  },
  {
   "cell_type": "code",
   "execution_count": null,
   "metadata": {},
   "outputs": [],
   "source": [
    "\n",
    "\n",
    "\n",
    "# def handle_client(client_socket):\n",
    "#     while True:\n",
    "#         try:\n",
    "#             # receive message from client\n",
    "#             msg = client_socket.recv(1024)\n",
    "#             time1 = datetime.datetime.now()\n",
    "#             if msg:\n",
    "#                 # broadcast the message to all clients\n",
    "#                 #broadcast_message(msg, client_socket)\n",
    "\n",
    "#                 #print(time1)\n",
    "#                 hex_a = list(msg)\n",
    "#                 print(\"[ %s ] receive from %s : %s\" % (time1, addr, hex_a))\n",
    "#                 #time.sleep(0.01)\n",
    "#                 response = bytes(hex_array)\n",
    "#                 time2 = datetime.datetime.now()\n",
    "#                 client_socket.sendall(response)\n",
    "#                 print(\"[ %s ] send to client: %s\" %(time2, response))\n",
    "#         except:\n",
    "#             # socket。 when there is error, remove client and close socket.\n",
    "#             index = client_sockets.index(client_socket)\n",
    "#             client_sockets.remove(client_socket)\n",
    "#             client_socket.close()\n",
    "\n",
    "#             break\n",
    "\n"
   ]
  },
  {
   "cell_type": "code",
   "execution_count": null,
   "metadata": {},
   "outputs": [],
   "source": [
    "\n",
    "\n",
    "\n",
    "def handle_client(client_socket):\n",
    "    while True:\n",
    "        try:\n",
    "            # 接收客户端发送的消息receive message from client\n",
    "            msg = client_socket.recv(1024)\n",
    "            time1 = datetime.datetime.now()\n",
    "            if msg:\n",
    "                # 广播消息给所有其他客户端broadcast the message to all clients\n",
    "                #broadcast_message(msg, client_socket)\n",
    "\n",
    "                #print(time1)\n",
    "                hex_a = list(msg)\n",
    "                # print(\"[ %s ] receive from %s : %s\" % (time1, addr,hex_a))\n",
    "\n",
    "                # print(\"[ %s ] receive from %s : %s\" % (time1, addr, hex_a[8:-2]))\n",
    "                # print(\"[ %s ] receive from %s :%s | %s, %s\" % (time1, addr,hex_a[8:-2],  decode_weight(hex_a[8:-2][1:5]), decode_weight(hex_a[8:-2][-4:])))\n",
    "                # print(\"%s, %s\" % decode_weight(hex_a[8:-2][1:5]), decode_weight(hex_a[8:-2][-4:]))\n",
    "                # print(f'hex_a: {hex_a} --weight 0: {decode_weight(hex_a[8:-2][1:5])}, weight 1: {decode_weight(hex_a[8:-2][-4:])}')\n",
    "                print(f'hex_a: {hex_a}')\n",
    "\n",
    "\n",
    "                # print(client_sockets)\n",
    "                # print(\"[ %s ] receive from %s : %s\" % (time1, addr, decode_weight(hex_a[8:-2])))\n",
    "\n",
    "                #time.sleep(0.01)\n",
    "                print(\"----------------------------------------------\")\n",
    "\n",
    "                # response = hexArrayToByteStream(hex_array)\n",
    "                response = hexStringToByteStrem(hex_string)\n",
    "                time2 = datetime.datetime.now()\n",
    "                client_socket.sendall(response)\n",
    "\n",
    "                # data_package = response[8:-2]\n",
    "\n",
    "                # print(\"[ %s ] send to client: %s\" %(time2, response))\n",
    "        except:\n",
    "            # socket。 when there is error, remove client and close socket.\n",
    "            index = client_sockets.index(client_socket)\n",
    "            client_sockets.remove(client_socket)\n",
    "            client_socket.close()\n",
    "\n",
    "            break\n",
    "\n"
   ]
  },
  {
   "cell_type": "code",
   "execution_count": null,
   "metadata": {},
   "outputs": [],
   "source": [
    "\n",
    "def broadcast_message(msg, sender_socket):\n",
    "    for client_socket in client_sockets:\n",
    "        if client_socket != sender_socket:\n",
    "            client_socket.sendall(msg.encode())\n",
    "\n"
   ]
  },
  {
   "cell_type": "code",
   "execution_count": null,
   "metadata": {},
   "outputs": [],
   "source": [
    "def decode_weight(weight_bytes):\n",
    "    weight = weight_bytes[0] + (weight_bytes[1] << 8) + (weight_bytes[2] << 16) + (weight_bytes[3] << 24)\n",
    "    weight_in_grams = weight * 0.1\n",
    "    return weight_in_grams\n"
   ]
  },
  {
   "cell_type": "code",
   "execution_count": null,
   "metadata": {},
   "outputs": [],
   "source": [
    "\n",
    "# Store the list of sockets connected to clients\n",
    "client_sockets = []\n",
    "while True:\n",
    "    #  wait for clients connection\n",
    "    client_socket, addr = server_socket.accept()\n",
    "\n",
    "    print('Connecting to client {0}'.format(addr))\n",
    "\n",
    "    #add new client to list\n",
    "    client_sockets.append(client_socket)\n",
    "\n",
    "    # response = bytes(hex_array)\n",
    "    # response = hexArrayToByteStream(hex_array)\n",
    "    response = hexStringToByteStrem(hex_string)\n",
    "\n",
    "    client_socket.sendall(response)\n",
    "    print(\"XXXXXXXXXXXXXXXXXXXXXXXXXXXXXXXXXXXXXXXX\")\n",
    "    print(\"send to client:\", response)\n",
    "    # creat a thread to handle message from clients\n",
    "    thread = threading.Thread(target=handle_client, args=(client_socket,))\n",
    "    thread.start()\n",
    "\n",
    "\n",
    "    # hex_a: [2, 129, 12, 0, 81, 80, 6, 27, 231, 0, 0, 0, 0, 0, 0, 0, 0, 54, 3]\n",
    "    # hex_a: [2, 129, 12, 0, 87, 80, 6, 27, 231, 27, 232, 0, 0, 0, 0, 0, 0, 0, 63, 3] \"\"\n",
    "\n",
    "\n",
    "\n",
    "\n",
    "\n",
    "    \n",
    "\n",
    "\n"
   ]
  },
  {
   "cell_type": "code",
   "execution_count": null,
   "metadata": {},
   "outputs": [],
   "source": []
  },
  {
   "cell_type": "code",
   "execution_count": null,
   "metadata": {},
   "outputs": [],
   "source": []
  },
  {
   "cell_type": "code",
   "execution_count": null,
   "metadata": {},
   "outputs": [],
   "source": [
    "[2,# start \n",
    "129, # id\n",
    "84, 0, # frame length \n",
    "81, # command class Q\n",
    "80, # cpmmand code\n",
    "6, # parameter PN\n",
    "20, #  aisle number mean total quantity of aisle in network\n",
    "238, 42, 0, 0, 0, 0, 0, 0, 0, 0, 0, 0, 0, 0, 0, 0, 0, 0, 0, 0, 0, 0, 0, 0, 0, 0, 0, 0, 0, 0, 0, 0, 0, 0, 0, 0, 0, 0, 0, 0, 0, 0, 0, 0, 0, 0, 0, 0, 0, 0, 0, 0, 0, 0, 0, 0, 0, 0, 0, 0, 0, 0, 0, 0, 0, 0, 0, 0, 0, 0, 0, 0, 0, 0, 0, 0, 0, 0, 0, 0, \n",
    "168, # CS, \n",
    "3 # end\n",
    "]"
   ]
  },
  {
   "cell_type": "code",
   "execution_count": null,
   "metadata": {},
   "outputs": [],
   "source": [
    "[2,\n",
    "  129,\n",
    "    8, 0,\n",
    "      81,\n",
    "        80,\n",
    "          6,\n",
    "            1, 140, 65, 0, 0, \n",
    "            254, \n",
    "            3\n",
    "            ]"
   ]
  },
  {
   "cell_type": "code",
   "execution_count": null,
   "metadata": {},
   "outputs": [],
   "source": [
    "02 01 04 00 57 50 06 00 B2 03  "
   ]
  },
  {
   "cell_type": "code",
   "execution_count": null,
   "metadata": {},
   "outputs": [],
   "source": []
  },
  {
   "cell_type": "code",
   "execution_count": null,
   "metadata": {},
   "outputs": [],
   "source": []
  },
  {
   "cell_type": "code",
   "execution_count": null,
   "metadata": {},
   "outputs": [],
   "source": []
  },
  {
   "cell_type": "code",
   "execution_count": null,
   "metadata": {},
   "outputs": [],
   "source": []
  },
  {
   "cell_type": "code",
   "execution_count": null,
   "metadata": {},
   "outputs": [],
   "source": [
    "len([238, 42, 0, 0, 0, 0, 0, 0, 0, 0, 0, 0, 0, 0, 0, 0, 0, 0, 0, 0, 0, 0, 0, 0, 0, 0, 0, 0, 0, 0, 0, 0, 0, 0, 0, 0, 0, 0, 0, 0, 0, 0, 0, 0, 0, 0, 0, 0, 0, 0, 0, 0, 0, 0, 0, 0, 0, 0, 0, 0, 0, 0, 0, 0, 0, 0, 0, 0, 0, 0, 0, 0, 0, 0, 0, 0, 0, 0, 0, 0, \n",
    "])"
   ]
  },
  {
   "cell_type": "code",
   "execution_count": null,
   "metadata": {},
   "outputs": [],
   "source": []
  },
  {
   "cell_type": "code",
   "execution_count": null,
   "metadata": {},
   "outputs": [],
   "source": []
  },
  {
   "cell_type": "code",
   "execution_count": null,
   "metadata": {},
   "outputs": [],
   "source": []
  },
  {
   "cell_type": "code",
   "execution_count": null,
   "metadata": {},
   "outputs": [],
   "source": [
    "response = [2,# start \n",
    "129, # id\n",
    "84, 0, # frame length \n",
    "81, # command class Q\n",
    "80, # cpmmand code\n",
    "6, # parameter PN\n",
    "20, #  aisle number mean total quantity of aisle in network\n",
    "238, 42, 0, 0, 0, 0, 0, 0, 0, 0, 0, 0, 0, 0, 0, 0, 0, 0, 0, 0, 0, 0, 0, 0, 0, 0, 0, 0, 0, 0, 0, 0, 0, 0, 0, 0, 0, 0, 0, 0, 0, 0, 0, 0, 0, 0, 0, 0, 0, 0, 0, 0, 0, 0, 0, 0, 0, 0, 0, 0, 0, 0, 0, 0, 0, 0, 0, 0, 0, 0, 0, 0, 0, 0, 0, 0, 0, 0, 0, 0, \n",
    "168, # CS, \n",
    "3 # end\n",
    "]\n",
    "\n",
    "\n",
    "\n",
    "start = response[0]\n",
    "address_id = response[1] \n",
    "\n",
    "frame_length = response[2:4]\n",
    "command_class_q = response[4]\n",
    "command_code = response[5]\n",
    "parameter_pn = response[6]\n",
    "print(parameter_pn)\n",
    "aisle_number = response[7]\n",
    "print(aisle_number)\n",
    "data_package = response[8:-2]\n",
    "cs = response[-2]  # Last but one element\n",
    "end = response[-1]  # La\n",
    "\n",
    "print(len(data_package))\n",
    "print(cs)\n",
    "print(end)"
   ]
  },
  {
   "cell_type": "code",
   "execution_count": null,
   "metadata": {},
   "outputs": [],
   "source": []
  },
  {
   "cell_type": "code",
   "execution_count": null,
   "metadata": {},
   "outputs": [],
   "source": []
  },
  {
   "cell_type": "code",
   "execution_count": null,
   "metadata": {},
   "outputs": [],
   "source": []
  },
  {
   "cell_type": "code",
   "execution_count": null,
   "metadata": {},
   "outputs": [],
   "source": []
  },
  {
   "cell_type": "code",
   "execution_count": null,
   "metadata": {},
   "outputs": [],
   "source": []
  },
  {
   "cell_type": "code",
   "execution_count": null,
   "metadata": {},
   "outputs": [],
   "source": []
  },
  {
   "cell_type": "code",
   "execution_count": null,
   "metadata": {},
   "outputs": [],
   "source": []
  },
  {
   "cell_type": "code",
   "execution_count": null,
   "metadata": {},
   "outputs": [],
   "source": [
    "# Example data list\n",
    "data = [208, 67, 0, 0]\n",
    "\n",
    "# Decode weight\n",
    "weight_bytes = data[:4]\n",
    "weight = weight_bytes[0] + (weight_bytes[1] << 8) + (weight_bytes[2] << 16) + (weight_bytes[3] << 24)\n",
    "weight_in_grams = weight * 0.1\n",
    "\n",
    "# Decode tar_sta\n",
    "tar_sta_bytes = data[:4]  # Assuming data is only for tar_sta\n",
    "tar_sta = tar_sta_bytes[0] + (tar_sta_bytes[1] << 8) + (tar_sta_bytes[2] << 16) + (tar_sta_bytes[3] << 24)\n",
    "tar_sta_binary = bin(tar_sta)[2:].zfill(32)\n",
    "\n",
    "# Print results\n",
    "print(f\"Weight in grams: {weight_in_grams:.1f} grams\")\n",
    "print(f\"tar_sta (units 1-32) binary: {tar_sta_binary}\")\n",
    "\n",
    "# Interpreting individual statuses for tar_sta\n",
    "tar_sta_status = [int(bit) for bit in tar_sta_binary]\n",
    "print(f\"tar_sta status: {tar_sta_status}\")\n"
   ]
  },
  {
   "cell_type": "code",
   "execution_count": null,
   "metadata": {},
   "outputs": [],
   "source": []
  }
 ],
 "metadata": {
  "kernelspec": {
   "display_name": "noManEnv",
   "language": "python",
   "name": "python3"
  },
  "language_info": {
   "codemirror_mode": {
    "name": "ipython",
    "version": 3
   },
   "file_extension": ".py",
   "mimetype": "text/x-python",
   "name": "python",
   "nbconvert_exporter": "python",
   "pygments_lexer": "ipython3",
   "version": "3.10.14"
  }
 },
 "nbformat": 4,
 "nbformat_minor": 2
}
